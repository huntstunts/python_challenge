{
 "cells": [
  {
   "cell_type": "code",
   "execution_count": 77,
   "id": "c47cc4e5-285c-4593-889a-c84ebab3e975",
   "metadata": {
    "tags": []
   },
   "outputs": [
    {
     "name": "stdout",
     "output_type": "stream",
     "text": [
      "1926159\n",
      "-2196167\n"
     ]
    }
   ],
   "source": [
    "import csv\n",
    "\n",
    "from pathlib import Path\n",
    "\n",
    "\n",
    "#importing Excel file into script\n",
    "\n",
    "csvpath = Path(\"budget_data.csv\")\n",
    "#establishing lists,dictionary,and variables\n",
    "profits_losses=[]\n",
    "list_months=[]\n",
    "data={}\n",
    "line_num=0\n",
    "number=0\n",
    "period=0\n",
    "\n",
    "#making lists with the Excel information\n",
    "with open(csvpath) as csvfile:\n",
    "    \n",
    "    #establishing the reader\n",
    "    csvreader = csv.reader(csvfile)\n",
    "    \n",
    "    #skipping the header\n",
    "    header=next(csvreader)\n",
    "    \n",
    "    line_num +=1\n",
    "    \n",
    "    for row in csvreader:\n",
    "        number=int(row[1])\n",
    "        profits_losses.append(number)\n",
    "        period=(row[0])\n",
    "        list_months.append(period)\n",
    "\n",
    "#copies of lists so they aren't lost when making the dictionary        \n",
    "m_a_y=list_months.copy()\n",
    "second_pl_list=profits_losses.copy()\n",
    "\n",
    "\n",
    "#making dictionary for months and total of months\n",
    "with open(csvpath) as csvfile:\n",
    "    for key in list_months:\n",
    "        for value in profits_losses:\n",
    "            data[key] = value\n",
    "            profits_losses.remove(value)\n",
    "            break\n",
    "        \n",
    "\n",
    "\n",
    "\n",
    "#using numpy to decipher differences in monthly profits\n",
    "import numpy\n",
    "difference=numpy.diff(second_pl_list)\n",
    "\n",
    "\n",
    "\n",
    "#establishing more variables \n",
    "total=0\n",
    "count=0\n",
    "average=0\n",
    "\n",
    "#using for loop to get average change\n",
    "for integer in difference:\n",
    "    total += integer\n",
    "    count += 1\n",
    "\n",
    "average=round(total/count,2)\n",
    "\n",
    "\n",
    "\n",
    "#making dictionary of difference in profits/losses\n",
    "monthly_changes={}    \n",
    "\n",
    "monthly_changes=dict(zip(m_a_y,difference))\n",
    "\n",
    "#variables for max profit and max loss\n",
    "max_profit=0\n",
    "max_loss=0\n",
    "\n",
    "#using for loops to get biggest profit and biggest loss\n",
    "for each_value in monthly_changes.values():\n",
    "    if each_value ==0:\n",
    "        each_value=max_profit\n",
    "    if each_value > max_profit:\n",
    "        max_profit=each_value\n",
    "        \n",
    "for each_value in monthly_changes.values():\n",
    "    if each_value ==0:\n",
    "        each_value=max_loss\n",
    "    if each_value < max_loss:\n",
    "        max_loss=each_value\n",
    "            \n",
    "\n",
    "print(max_profit)\n",
    "print(max_loss)\n"
   ]
  },
  {
   "cell_type": "code",
   "execution_count": 78,
   "id": "4809be9a-efd6-47ed-ad71-ad3420a70414",
   "metadata": {
    "tags": []
   },
   "outputs": [
    {
     "data": {
      "text/plain": [
       "'Feb-2017'"
      ]
     },
     "execution_count": 78,
     "metadata": {},
     "output_type": "execute_result"
    }
   ],
   "source": [
    "\n",
    "#function to find key(month) with highest increase\n",
    "def get_key_by_value(monthly_changes, value_to_find):\n",
    "    for key, value in monthly_changes.items():\n",
    "        if value == 1926159:\n",
    "            return key\n",
    "\n",
    "key"
   ]
  },
  {
   "cell_type": "code",
   "execution_count": 82,
   "id": "5cf93885-318f-4d17-a795-17629b666b6b",
   "metadata": {
    "tags": []
   },
   "outputs": [
    {
     "data": {
      "text/plain": [
       "'February 2017'"
      ]
     },
     "execution_count": 82,
     "metadata": {},
     "output_type": "execute_result"
    }
   ],
   "source": [
    "#making variable for month with highest increase\n",
    "key_high='February 2017'\n",
    "key_high"
   ]
  },
  {
   "cell_type": "code",
   "execution_count": 79,
   "id": "468a0d32-b7b1-4901-bc3d-e5a6955d7fe3",
   "metadata": {
    "tags": []
   },
   "outputs": [
    {
     "name": "stdout",
     "output_type": "stream",
     "text": [
      "Jan-2012\n"
     ]
    }
   ],
   "source": [
    "#function for finding key(month) with biggest decrease\n",
    "#(using same function twice didn't work for some reason)\n",
    "monthly_changes\n",
    "value_to_find = -2196167\n",
    "key = get_key_by_value(monthly_changes, value_to_find)\n",
    "if key is not None:\n",
    "    print(f\"{key}\")\n",
    "    \n"
   ]
  },
  {
   "cell_type": "code",
   "execution_count": 83,
   "id": "1f201ea6-1359-4a9d-97b3-2830d8e6d4d2",
   "metadata": {
    "tags": []
   },
   "outputs": [
    {
     "data": {
      "text/plain": [
       "'January 2012'"
      ]
     },
     "execution_count": 83,
     "metadata": {},
     "output_type": "execute_result"
    }
   ],
   "source": [
    "#making variable for month with biggest decrease\n",
    "key_low='January 2012'\n",
    "key_low"
   ]
  },
  {
   "cell_type": "code",
   "execution_count": 84,
   "id": "463f6976-9c02-4cc0-9dc5-40c55b98667e",
   "metadata": {
    "tags": []
   },
   "outputs": [],
   "source": [
    "#outputting financial analysis into a text file\n",
    "file_to_output=(\"budget_summary.txt\")\n",
    "\n",
    "with open(file_to_output,'w') as txt_file:\n",
    "\n",
    "    txt_file.write(f\"Financial Analysis:\\n\")\n",
    "    txt_file.write(f\"------------------------\\n\")\n",
    "    txt_file.write(f\"Total Months:{len(data)}\\n\")\n",
    "    txt_file.write(f\"Total:${(sum(data.values()))}\\n\")\n",
    "    txt_file.write(f\"Average Change:${average}\\n\")\n",
    "    txt_file.write(f\"Greatest Increase in Profits:${max_profit} in {key_high}\\n\")\n",
    "    txt_file.write(f\"Greatest Decrease in Profits:${max_loss} in {key_low}\\n\")"
   ]
  },
  {
   "cell_type": "code",
   "execution_count": null,
   "id": "588aff7d-23dd-402e-bc66-d70e1dd90900",
   "metadata": {},
   "outputs": [],
   "source": []
  }
 ],
 "metadata": {
  "kernelspec": {
   "display_name": "Python 3 (ipykernel)",
   "language": "python",
   "name": "python3"
  },
  "language_info": {
   "codemirror_mode": {
    "name": "ipython",
    "version": 3
   },
   "file_extension": ".py",
   "mimetype": "text/x-python",
   "name": "python",
   "nbconvert_exporter": "python",
   "pygments_lexer": "ipython3",
   "version": "3.11.4"
  }
 },
 "nbformat": 4,
 "nbformat_minor": 5
}
